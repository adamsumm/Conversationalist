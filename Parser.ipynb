{
 "cells": [
  {
   "cell_type": "code",
   "execution_count": null,
   "metadata": {},
   "outputs": [],
   "source": [
    "!unzip /home/bizon/Downloads/training_data_7jul2019.zip\n"
   ]
  },
  {
   "cell_type": "code",
   "execution_count": null,
   "metadata": {},
   "outputs": [],
   "source": [
    "\n",
    "from pytorch_pretrained_bert.tokenization import BertTokenizer\n",
    "from pytorch_pretrained_bert.modeling import BertModel\n",
    "from pytorch_pretrained_bert import GPT2Model, GPT2DoubleHeadsModel, GPT2Tokenizer,GPT2LMHeadModel\n",
    "\n",
    "from allennlp.commands.elmo import ElmoEmbedder\n",
    "\n",
    "import torch\n",
    "from torch.utils.data import TensorDataset, DataLoader, SequentialSampler\n",
    "from torch.utils.data.distributed import DistributedSampler\n",
    "\n",
    "import numpy as np\n",
    "from scipy.spatial.distance import cosine"
   ]
  },
  {
   "cell_type": "code",
   "execution_count": null,
   "metadata": {},
   "outputs": [],
   "source": [
    "import random\n",
    "import pickle\n",
    "seed = 0\n",
    "training_file = 'training_data_merged_130k'\n",
    "random.seed(seed)\n",
    "thinning = 1\n",
    "with open(training_file,'r') as infile:\n",
    "    \n",
    "    data = infile.read().rstrip()\n",
    "    data = data.replace('$ISEP','').replace('$OSEP','').replace('<message boundary>','[[CLS]]<message boundary>')\n",
    "    for _ in range(5):\n",
    "        data = data.replace(\"  \",\" \")\n",
    "    data = data.split('<thread boundary>')[1:]\n",
    "    data = [d for d in data if random.random() < thinning]\n",
    "    data = [[m for m in d.split('<message boundary>')[1:]] for d in data]\n",
    "    \n",
    "    data = [[message.split('<input-output boundary>') for message in thread] for thread in data]\n",
    "    \n",
    "    data = [[[list(filter(lambda a: a != '',section.split('\\n'))) for section in message] for message in thread] for thread in data]\n",
    "    data = [[[[list(filter(lambda a: a != '',sub.replace('NEWLINE NEWLINE','\\n\\n').replace('NEWLINE','\\n').split(' '))) for sub in section] for section in message] for message in thread] for thread in data]\n",
    "    data = [[[message[0][0],message[0][1],message[1][0]] for message in thread] for thread in data]\n",
    "    \n",
    "      "
   ]
  },
  {
   "cell_type": "code",
   "execution_count": null,
   "metadata": {},
   "outputs": [],
   "source": [
    "\n",
    "elmo = ElmoEmbedder(options_file='~/DownloadedModels/Elmo/elmo_2x4096_512_2048cnn_2xhighway_5.5B_options.json',\n",
    "                    weight_file='~/DownloadedModels/Elmo/elmo_2x4096_512_2048cnn_2xhighway_5.5B_weights.hdf5',\n",
    "                    cuda_device=1)"
   ]
  },
  {
   "cell_type": "code",
   "execution_count": null,
   "metadata": {},
   "outputs": [],
   "source": [
    "data_with_embeddings = []\n",
    "batch_size = 64\n",
    "from tqdm import tqdm_notebook\n",
    "for thread in tqdm_notebook(data):\n",
    "    batched = []\n",
    "    for ii in list(range(0,len(thread),batch_size)):\n",
    "        thing = [message[0] for message in thread[ii:ii+batch_size]]\n",
    "        batched += elmo.embed_batch([message[0] for message in thread[ii:ii+batch_size]])\n",
    "       \n",
    "    data_with_embeddings.append((thread,batched))"
   ]
  },
  {
   "cell_type": "code",
   "execution_count": null,
   "metadata": {},
   "outputs": [],
   "source": [
    "pickle.dump(data_with_embeddings,open(f'elmo_embedded_{training_file}_{seed}_{thinning}.pkl','wb'))"
   ]
  },
  {
   "cell_type": "code",
   "execution_count": null,
   "metadata": {},
   "outputs": [],
   "source": [
    "print(' '.join(data[-1][0][0]))"
   ]
  },
  {
   "cell_type": "code",
   "execution_count": null,
   "metadata": {},
   "outputs": [],
   "source": [
    "t = 0\n",
    "for d in data:\n",
    "    t += len(d)\n",
    "print(t)"
   ]
  },
  {
   "cell_type": "code",
   "execution_count": null,
   "metadata": {},
   "outputs": [],
   "source": []
  }
 ],
 "metadata": {
  "kernelspec": {
   "display_name": "Python 3",
   "language": "python",
   "name": "python3"
  },
  "language_info": {
   "codemirror_mode": {
    "name": "ipython",
    "version": 3
   },
   "file_extension": ".py",
   "mimetype": "text/x-python",
   "name": "python",
   "nbconvert_exporter": "python",
   "pygments_lexer": "ipython3",
   "version": "3.7.0"
  }
 },
 "nbformat": 4,
 "nbformat_minor": 2
}
